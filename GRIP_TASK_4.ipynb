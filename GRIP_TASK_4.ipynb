{
 "cells": [
  {
   "cell_type": "markdown",
   "metadata": {},
   "source": [
    "# GRIP_TASK_4: EXPLORATORY DATA ANALYSIS - TERRORISM"
   ]
  },
  {
   "cell_type": "markdown",
   "metadata": {},
   "source": [
    "### NAME : RAMA S"
   ]
  },
  {
   "cell_type": "code",
   "execution_count": null,
   "metadata": {
    "id": "Rcpt8yrqQ19J"
   },
   "outputs": [],
   "source": [
    "import os\n",
    "import matplotlib.pyplot as plt\n",
    "import seaborn as sns\n",
    "import pandas as pd"
   ]
  },
  {
   "cell_type": "code",
   "execution_count": 2,
   "metadata": {
    "colab": {
     "base_uri": "https://localhost:8080/"
    },
    "id": "4S4TZXW5Relx",
    "outputId": "c77c9684-d769-4301-fd4a-f95060eacee0"
   },
   "outputs": [
    {
     "name": "stdout",
     "output_type": "stream",
     "text": [
      "Go to this URL in a browser: https://accounts.google.com/o/oauth2/auth?client_id=947318989803-6bn6qk8qdgf4n4g3pfee6491hc0brc4i.apps.googleusercontent.com&redirect_uri=urn%3aietf%3awg%3aoauth%3a2.0%3aoob&scope=email%20https%3a%2f%2fwww.googleapis.com%2fauth%2fdocs.test%20https%3a%2f%2fwww.googleapis.com%2fauth%2fdrive%20https%3a%2f%2fwww.googleapis.com%2fauth%2fdrive.photos.readonly%20https%3a%2f%2fwww.googleapis.com%2fauth%2fpeopleapi.readonly%20https%3a%2f%2fwww.googleapis.com%2fauth%2fdrive.activity.readonly&response_type=code\n",
      "\n",
      "Enter your authorization code:\n",
      "4/1AY0e-g5X-FQR4ZmwS1naXb1hA81YsUdcx-ajgOa0eYO9Z6fZqLdyUbizJN0\n",
      "Mounted at /content/drive\n"
     ]
    }
   ],
   "source": [
    "from google.colab import drive\n",
    "drive.mount('/content/drive')"
   ]
  },
  {
   "cell_type": "code",
   "execution_count": 3,
   "metadata": {
    "colab": {
     "base_uri": "https://localhost:8080/"
    },
    "id": "ukPUQT9oT1mc",
    "outputId": "bc2b0d4b-1947-49ed-ff61-c9b1ec3afd62"
   },
   "outputs": [
    {
     "name": "stderr",
     "output_type": "stream",
     "text": [
      "/usr/local/lib/python3.6/dist-packages/IPython/core/interactiveshell.py:2718: DtypeWarning: Columns (4,6,31,33,61,62,63,76,79,90,92,94,96,114,115,121) have mixed types.Specify dtype option on import or set low_memory=False.\n",
      "  interactivity=interactivity, compiler=compiler, result=result)\n"
     ]
    }
   ],
   "source": [
    "dataset = pd.read_csv(\"/content/drive/MyDrive/grip dataset/globalterrorismdb_0718dist.csv\",encoding = 'latin1')"
   ]
  },
  {
   "cell_type": "code",
   "execution_count": 4,
   "metadata": {
    "colab": {
     "base_uri": "https://localhost:8080/",
     "height": 372
    },
    "id": "tIhgVd6GV9Ws",
    "outputId": "d5f11f66-e4c8-4517-fb68-62da6748f858"
   },
   "outputs": [
    {
     "data": {
      "text/html": [
       "<div>\n",
       "<style scoped>\n",
       "    .dataframe tbody tr th:only-of-type {\n",
       "        vertical-align: middle;\n",
       "    }\n",
       "\n",
       "    .dataframe tbody tr th {\n",
       "        vertical-align: top;\n",
       "    }\n",
       "\n",
       "    .dataframe thead th {\n",
       "        text-align: right;\n",
       "    }\n",
       "</style>\n",
       "<table border=\"1\" class=\"dataframe\">\n",
       "  <thead>\n",
       "    <tr style=\"text-align: right;\">\n",
       "      <th></th>\n",
       "      <th>eventid</th>\n",
       "      <th>iyear</th>\n",
       "      <th>imonth</th>\n",
       "      <th>iday</th>\n",
       "      <th>approxdate</th>\n",
       "      <th>extended</th>\n",
       "      <th>resolution</th>\n",
       "      <th>country</th>\n",
       "      <th>country_txt</th>\n",
       "      <th>region</th>\n",
       "      <th>region_txt</th>\n",
       "      <th>provstate</th>\n",
       "      <th>city</th>\n",
       "      <th>latitude</th>\n",
       "      <th>longitude</th>\n",
       "      <th>specificity</th>\n",
       "      <th>vicinity</th>\n",
       "      <th>location</th>\n",
       "      <th>summary</th>\n",
       "      <th>crit1</th>\n",
       "      <th>crit2</th>\n",
       "      <th>crit3</th>\n",
       "      <th>doubtterr</th>\n",
       "      <th>alternative</th>\n",
       "      <th>alternative_txt</th>\n",
       "      <th>multiple</th>\n",
       "      <th>success</th>\n",
       "      <th>suicide</th>\n",
       "      <th>attacktype1</th>\n",
       "      <th>attacktype1_txt</th>\n",
       "      <th>attacktype2</th>\n",
       "      <th>attacktype2_txt</th>\n",
       "      <th>attacktype3</th>\n",
       "      <th>attacktype3_txt</th>\n",
       "      <th>targtype1</th>\n",
       "      <th>targtype1_txt</th>\n",
       "      <th>targsubtype1</th>\n",
       "      <th>targsubtype1_txt</th>\n",
       "      <th>corp1</th>\n",
       "      <th>target1</th>\n",
       "      <th>...</th>\n",
       "      <th>weapsubtype4</th>\n",
       "      <th>weapsubtype4_txt</th>\n",
       "      <th>weapdetail</th>\n",
       "      <th>nkill</th>\n",
       "      <th>nkillus</th>\n",
       "      <th>nkillter</th>\n",
       "      <th>nwound</th>\n",
       "      <th>nwoundus</th>\n",
       "      <th>nwoundte</th>\n",
       "      <th>property</th>\n",
       "      <th>propextent</th>\n",
       "      <th>propextent_txt</th>\n",
       "      <th>propvalue</th>\n",
       "      <th>propcomment</th>\n",
       "      <th>ishostkid</th>\n",
       "      <th>nhostkid</th>\n",
       "      <th>nhostkidus</th>\n",
       "      <th>nhours</th>\n",
       "      <th>ndays</th>\n",
       "      <th>divert</th>\n",
       "      <th>kidhijcountry</th>\n",
       "      <th>ransom</th>\n",
       "      <th>ransomamt</th>\n",
       "      <th>ransomamtus</th>\n",
       "      <th>ransompaid</th>\n",
       "      <th>ransompaidus</th>\n",
       "      <th>ransomnote</th>\n",
       "      <th>hostkidoutcome</th>\n",
       "      <th>hostkidoutcome_txt</th>\n",
       "      <th>nreleased</th>\n",
       "      <th>addnotes</th>\n",
       "      <th>scite1</th>\n",
       "      <th>scite2</th>\n",
       "      <th>scite3</th>\n",
       "      <th>dbsource</th>\n",
       "      <th>INT_LOG</th>\n",
       "      <th>INT_IDEO</th>\n",
       "      <th>INT_MISC</th>\n",
       "      <th>INT_ANY</th>\n",
       "      <th>related</th>\n",
       "    </tr>\n",
       "  </thead>\n",
       "  <tbody>\n",
       "    <tr>\n",
       "      <th>0</th>\n",
       "      <td>197000000001</td>\n",
       "      <td>1970</td>\n",
       "      <td>7</td>\n",
       "      <td>2</td>\n",
       "      <td>NaN</td>\n",
       "      <td>0</td>\n",
       "      <td>NaN</td>\n",
       "      <td>58</td>\n",
       "      <td>Dominican Republic</td>\n",
       "      <td>2</td>\n",
       "      <td>Central America &amp; Caribbean</td>\n",
       "      <td>NaN</td>\n",
       "      <td>Santo Domingo</td>\n",
       "      <td>18.456792</td>\n",
       "      <td>-69.951164</td>\n",
       "      <td>1.0</td>\n",
       "      <td>0</td>\n",
       "      <td>NaN</td>\n",
       "      <td>NaN</td>\n",
       "      <td>1</td>\n",
       "      <td>1</td>\n",
       "      <td>1</td>\n",
       "      <td>0.0</td>\n",
       "      <td>NaN</td>\n",
       "      <td>NaN</td>\n",
       "      <td>0.0</td>\n",
       "      <td>1</td>\n",
       "      <td>0</td>\n",
       "      <td>1</td>\n",
       "      <td>Assassination</td>\n",
       "      <td>NaN</td>\n",
       "      <td>NaN</td>\n",
       "      <td>NaN</td>\n",
       "      <td>NaN</td>\n",
       "      <td>14</td>\n",
       "      <td>Private Citizens &amp; Property</td>\n",
       "      <td>68.0</td>\n",
       "      <td>Named Civilian</td>\n",
       "      <td>NaN</td>\n",
       "      <td>Julio Guzman</td>\n",
       "      <td>...</td>\n",
       "      <td>NaN</td>\n",
       "      <td>NaN</td>\n",
       "      <td>NaN</td>\n",
       "      <td>1.0</td>\n",
       "      <td>NaN</td>\n",
       "      <td>NaN</td>\n",
       "      <td>0.0</td>\n",
       "      <td>NaN</td>\n",
       "      <td>NaN</td>\n",
       "      <td>0</td>\n",
       "      <td>NaN</td>\n",
       "      <td>NaN</td>\n",
       "      <td>NaN</td>\n",
       "      <td>NaN</td>\n",
       "      <td>0.0</td>\n",
       "      <td>NaN</td>\n",
       "      <td>NaN</td>\n",
       "      <td>NaN</td>\n",
       "      <td>NaN</td>\n",
       "      <td>NaN</td>\n",
       "      <td>NaN</td>\n",
       "      <td>0.0</td>\n",
       "      <td>NaN</td>\n",
       "      <td>NaN</td>\n",
       "      <td>NaN</td>\n",
       "      <td>NaN</td>\n",
       "      <td>NaN</td>\n",
       "      <td>NaN</td>\n",
       "      <td>NaN</td>\n",
       "      <td>NaN</td>\n",
       "      <td>NaN</td>\n",
       "      <td>NaN</td>\n",
       "      <td>NaN</td>\n",
       "      <td>NaN</td>\n",
       "      <td>PGIS</td>\n",
       "      <td>0</td>\n",
       "      <td>0</td>\n",
       "      <td>0</td>\n",
       "      <td>0</td>\n",
       "      <td>NaN</td>\n",
       "    </tr>\n",
       "    <tr>\n",
       "      <th>1</th>\n",
       "      <td>197000000002</td>\n",
       "      <td>1970</td>\n",
       "      <td>0</td>\n",
       "      <td>0</td>\n",
       "      <td>NaN</td>\n",
       "      <td>0</td>\n",
       "      <td>NaN</td>\n",
       "      <td>130</td>\n",
       "      <td>Mexico</td>\n",
       "      <td>1</td>\n",
       "      <td>North America</td>\n",
       "      <td>Federal</td>\n",
       "      <td>Mexico city</td>\n",
       "      <td>19.371887</td>\n",
       "      <td>-99.086624</td>\n",
       "      <td>1.0</td>\n",
       "      <td>0</td>\n",
       "      <td>NaN</td>\n",
       "      <td>NaN</td>\n",
       "      <td>1</td>\n",
       "      <td>1</td>\n",
       "      <td>1</td>\n",
       "      <td>0.0</td>\n",
       "      <td>NaN</td>\n",
       "      <td>NaN</td>\n",
       "      <td>0.0</td>\n",
       "      <td>1</td>\n",
       "      <td>0</td>\n",
       "      <td>6</td>\n",
       "      <td>Hostage Taking (Kidnapping)</td>\n",
       "      <td>NaN</td>\n",
       "      <td>NaN</td>\n",
       "      <td>NaN</td>\n",
       "      <td>NaN</td>\n",
       "      <td>7</td>\n",
       "      <td>Government (Diplomatic)</td>\n",
       "      <td>45.0</td>\n",
       "      <td>Diplomatic Personnel (outside of embassy, cons...</td>\n",
       "      <td>Belgian Ambassador Daughter</td>\n",
       "      <td>Nadine Chaval, daughter</td>\n",
       "      <td>...</td>\n",
       "      <td>NaN</td>\n",
       "      <td>NaN</td>\n",
       "      <td>NaN</td>\n",
       "      <td>0.0</td>\n",
       "      <td>NaN</td>\n",
       "      <td>NaN</td>\n",
       "      <td>0.0</td>\n",
       "      <td>NaN</td>\n",
       "      <td>NaN</td>\n",
       "      <td>0</td>\n",
       "      <td>NaN</td>\n",
       "      <td>NaN</td>\n",
       "      <td>NaN</td>\n",
       "      <td>NaN</td>\n",
       "      <td>1.0</td>\n",
       "      <td>1.0</td>\n",
       "      <td>0.0</td>\n",
       "      <td>NaN</td>\n",
       "      <td>NaN</td>\n",
       "      <td>NaN</td>\n",
       "      <td>Mexico</td>\n",
       "      <td>1.0</td>\n",
       "      <td>800000.0</td>\n",
       "      <td>NaN</td>\n",
       "      <td>NaN</td>\n",
       "      <td>NaN</td>\n",
       "      <td>NaN</td>\n",
       "      <td>NaN</td>\n",
       "      <td>NaN</td>\n",
       "      <td>NaN</td>\n",
       "      <td>NaN</td>\n",
       "      <td>NaN</td>\n",
       "      <td>NaN</td>\n",
       "      <td>NaN</td>\n",
       "      <td>PGIS</td>\n",
       "      <td>0</td>\n",
       "      <td>1</td>\n",
       "      <td>1</td>\n",
       "      <td>1</td>\n",
       "      <td>NaN</td>\n",
       "    </tr>\n",
       "    <tr>\n",
       "      <th>2</th>\n",
       "      <td>197001000001</td>\n",
       "      <td>1970</td>\n",
       "      <td>1</td>\n",
       "      <td>0</td>\n",
       "      <td>NaN</td>\n",
       "      <td>0</td>\n",
       "      <td>NaN</td>\n",
       "      <td>160</td>\n",
       "      <td>Philippines</td>\n",
       "      <td>5</td>\n",
       "      <td>Southeast Asia</td>\n",
       "      <td>Tarlac</td>\n",
       "      <td>Unknown</td>\n",
       "      <td>15.478598</td>\n",
       "      <td>120.599741</td>\n",
       "      <td>4.0</td>\n",
       "      <td>0</td>\n",
       "      <td>NaN</td>\n",
       "      <td>NaN</td>\n",
       "      <td>1</td>\n",
       "      <td>1</td>\n",
       "      <td>1</td>\n",
       "      <td>0.0</td>\n",
       "      <td>NaN</td>\n",
       "      <td>NaN</td>\n",
       "      <td>0.0</td>\n",
       "      <td>1</td>\n",
       "      <td>0</td>\n",
       "      <td>1</td>\n",
       "      <td>Assassination</td>\n",
       "      <td>NaN</td>\n",
       "      <td>NaN</td>\n",
       "      <td>NaN</td>\n",
       "      <td>NaN</td>\n",
       "      <td>10</td>\n",
       "      <td>Journalists &amp; Media</td>\n",
       "      <td>54.0</td>\n",
       "      <td>Radio Journalist/Staff/Facility</td>\n",
       "      <td>Voice of America</td>\n",
       "      <td>Employee</td>\n",
       "      <td>...</td>\n",
       "      <td>NaN</td>\n",
       "      <td>NaN</td>\n",
       "      <td>NaN</td>\n",
       "      <td>1.0</td>\n",
       "      <td>NaN</td>\n",
       "      <td>NaN</td>\n",
       "      <td>0.0</td>\n",
       "      <td>NaN</td>\n",
       "      <td>NaN</td>\n",
       "      <td>0</td>\n",
       "      <td>NaN</td>\n",
       "      <td>NaN</td>\n",
       "      <td>NaN</td>\n",
       "      <td>NaN</td>\n",
       "      <td>0.0</td>\n",
       "      <td>NaN</td>\n",
       "      <td>NaN</td>\n",
       "      <td>NaN</td>\n",
       "      <td>NaN</td>\n",
       "      <td>NaN</td>\n",
       "      <td>NaN</td>\n",
       "      <td>0.0</td>\n",
       "      <td>NaN</td>\n",
       "      <td>NaN</td>\n",
       "      <td>NaN</td>\n",
       "      <td>NaN</td>\n",
       "      <td>NaN</td>\n",
       "      <td>NaN</td>\n",
       "      <td>NaN</td>\n",
       "      <td>NaN</td>\n",
       "      <td>NaN</td>\n",
       "      <td>NaN</td>\n",
       "      <td>NaN</td>\n",
       "      <td>NaN</td>\n",
       "      <td>PGIS</td>\n",
       "      <td>-9</td>\n",
       "      <td>-9</td>\n",
       "      <td>1</td>\n",
       "      <td>1</td>\n",
       "      <td>NaN</td>\n",
       "    </tr>\n",
       "    <tr>\n",
       "      <th>3</th>\n",
       "      <td>197001000002</td>\n",
       "      <td>1970</td>\n",
       "      <td>1</td>\n",
       "      <td>0</td>\n",
       "      <td>NaN</td>\n",
       "      <td>0</td>\n",
       "      <td>NaN</td>\n",
       "      <td>78</td>\n",
       "      <td>Greece</td>\n",
       "      <td>8</td>\n",
       "      <td>Western Europe</td>\n",
       "      <td>Attica</td>\n",
       "      <td>Athens</td>\n",
       "      <td>37.997490</td>\n",
       "      <td>23.762728</td>\n",
       "      <td>1.0</td>\n",
       "      <td>0</td>\n",
       "      <td>NaN</td>\n",
       "      <td>NaN</td>\n",
       "      <td>1</td>\n",
       "      <td>1</td>\n",
       "      <td>1</td>\n",
       "      <td>0.0</td>\n",
       "      <td>NaN</td>\n",
       "      <td>NaN</td>\n",
       "      <td>0.0</td>\n",
       "      <td>1</td>\n",
       "      <td>0</td>\n",
       "      <td>3</td>\n",
       "      <td>Bombing/Explosion</td>\n",
       "      <td>NaN</td>\n",
       "      <td>NaN</td>\n",
       "      <td>NaN</td>\n",
       "      <td>NaN</td>\n",
       "      <td>7</td>\n",
       "      <td>Government (Diplomatic)</td>\n",
       "      <td>46.0</td>\n",
       "      <td>Embassy/Consulate</td>\n",
       "      <td>NaN</td>\n",
       "      <td>U.S. Embassy</td>\n",
       "      <td>...</td>\n",
       "      <td>NaN</td>\n",
       "      <td>NaN</td>\n",
       "      <td>Explosive</td>\n",
       "      <td>NaN</td>\n",
       "      <td>NaN</td>\n",
       "      <td>NaN</td>\n",
       "      <td>NaN</td>\n",
       "      <td>NaN</td>\n",
       "      <td>NaN</td>\n",
       "      <td>1</td>\n",
       "      <td>NaN</td>\n",
       "      <td>NaN</td>\n",
       "      <td>NaN</td>\n",
       "      <td>NaN</td>\n",
       "      <td>0.0</td>\n",
       "      <td>NaN</td>\n",
       "      <td>NaN</td>\n",
       "      <td>NaN</td>\n",
       "      <td>NaN</td>\n",
       "      <td>NaN</td>\n",
       "      <td>NaN</td>\n",
       "      <td>0.0</td>\n",
       "      <td>NaN</td>\n",
       "      <td>NaN</td>\n",
       "      <td>NaN</td>\n",
       "      <td>NaN</td>\n",
       "      <td>NaN</td>\n",
       "      <td>NaN</td>\n",
       "      <td>NaN</td>\n",
       "      <td>NaN</td>\n",
       "      <td>NaN</td>\n",
       "      <td>NaN</td>\n",
       "      <td>NaN</td>\n",
       "      <td>NaN</td>\n",
       "      <td>PGIS</td>\n",
       "      <td>-9</td>\n",
       "      <td>-9</td>\n",
       "      <td>1</td>\n",
       "      <td>1</td>\n",
       "      <td>NaN</td>\n",
       "    </tr>\n",
       "    <tr>\n",
       "      <th>4</th>\n",
       "      <td>197001000003</td>\n",
       "      <td>1970</td>\n",
       "      <td>1</td>\n",
       "      <td>0</td>\n",
       "      <td>NaN</td>\n",
       "      <td>0</td>\n",
       "      <td>NaN</td>\n",
       "      <td>101</td>\n",
       "      <td>Japan</td>\n",
       "      <td>4</td>\n",
       "      <td>East Asia</td>\n",
       "      <td>Fukouka</td>\n",
       "      <td>Fukouka</td>\n",
       "      <td>33.580412</td>\n",
       "      <td>130.396361</td>\n",
       "      <td>1.0</td>\n",
       "      <td>0</td>\n",
       "      <td>NaN</td>\n",
       "      <td>NaN</td>\n",
       "      <td>1</td>\n",
       "      <td>1</td>\n",
       "      <td>1</td>\n",
       "      <td>-9.0</td>\n",
       "      <td>NaN</td>\n",
       "      <td>NaN</td>\n",
       "      <td>0.0</td>\n",
       "      <td>1</td>\n",
       "      <td>0</td>\n",
       "      <td>7</td>\n",
       "      <td>Facility/Infrastructure Attack</td>\n",
       "      <td>NaN</td>\n",
       "      <td>NaN</td>\n",
       "      <td>NaN</td>\n",
       "      <td>NaN</td>\n",
       "      <td>7</td>\n",
       "      <td>Government (Diplomatic)</td>\n",
       "      <td>46.0</td>\n",
       "      <td>Embassy/Consulate</td>\n",
       "      <td>NaN</td>\n",
       "      <td>U.S. Consulate</td>\n",
       "      <td>...</td>\n",
       "      <td>NaN</td>\n",
       "      <td>NaN</td>\n",
       "      <td>Incendiary</td>\n",
       "      <td>NaN</td>\n",
       "      <td>NaN</td>\n",
       "      <td>NaN</td>\n",
       "      <td>NaN</td>\n",
       "      <td>NaN</td>\n",
       "      <td>NaN</td>\n",
       "      <td>1</td>\n",
       "      <td>NaN</td>\n",
       "      <td>NaN</td>\n",
       "      <td>NaN</td>\n",
       "      <td>NaN</td>\n",
       "      <td>0.0</td>\n",
       "      <td>NaN</td>\n",
       "      <td>NaN</td>\n",
       "      <td>NaN</td>\n",
       "      <td>NaN</td>\n",
       "      <td>NaN</td>\n",
       "      <td>NaN</td>\n",
       "      <td>0.0</td>\n",
       "      <td>NaN</td>\n",
       "      <td>NaN</td>\n",
       "      <td>NaN</td>\n",
       "      <td>NaN</td>\n",
       "      <td>NaN</td>\n",
       "      <td>NaN</td>\n",
       "      <td>NaN</td>\n",
       "      <td>NaN</td>\n",
       "      <td>NaN</td>\n",
       "      <td>NaN</td>\n",
       "      <td>NaN</td>\n",
       "      <td>NaN</td>\n",
       "      <td>PGIS</td>\n",
       "      <td>-9</td>\n",
       "      <td>-9</td>\n",
       "      <td>1</td>\n",
       "      <td>1</td>\n",
       "      <td>NaN</td>\n",
       "    </tr>\n",
       "  </tbody>\n",
       "</table>\n",
       "<p>5 rows × 135 columns</p>\n",
       "</div>"
      ],
      "text/plain": [
       "        eventid  iyear  imonth  iday  ... INT_IDEO  INT_MISC INT_ANY  related\n",
       "0  197000000001   1970       7     2  ...        0         0       0      NaN\n",
       "1  197000000002   1970       0     0  ...        1         1       1      NaN\n",
       "2  197001000001   1970       1     0  ...       -9         1       1      NaN\n",
       "3  197001000002   1970       1     0  ...       -9         1       1      NaN\n",
       "4  197001000003   1970       1     0  ...       -9         1       1      NaN\n",
       "\n",
       "[5 rows x 135 columns]"
      ]
     },
     "execution_count": 4,
     "metadata": {
      "tags": []
     },
     "output_type": "execute_result"
    }
   ],
   "source": [
    "dataset.head()"
   ]
  },
  {
   "cell_type": "code",
   "execution_count": 5,
   "metadata": {
    "colab": {
     "base_uri": "https://localhost:8080/",
     "height": 289
    },
    "id": "L6IV3mayWYmM",
    "outputId": "21bb0516-064b-4dcf-fad1-c52c0e91d995"
   },
   "outputs": [
    {
     "data": {
      "text/html": [
       "<div>\n",
       "<style scoped>\n",
       "    .dataframe tbody tr th:only-of-type {\n",
       "        vertical-align: middle;\n",
       "    }\n",
       "\n",
       "    .dataframe tbody tr th {\n",
       "        vertical-align: top;\n",
       "    }\n",
       "\n",
       "    .dataframe thead th {\n",
       "        text-align: right;\n",
       "    }\n",
       "</style>\n",
       "<table border=\"1\" class=\"dataframe\">\n",
       "  <thead>\n",
       "    <tr style=\"text-align: right;\">\n",
       "      <th></th>\n",
       "      <th>iyear</th>\n",
       "      <th>imonth</th>\n",
       "      <th>iday</th>\n",
       "      <th>extended</th>\n",
       "      <th>country_txt</th>\n",
       "      <th>region_txt</th>\n",
       "      <th>city</th>\n",
       "      <th>success</th>\n",
       "      <th>suicide</th>\n",
       "      <th>nwound</th>\n",
       "      <th>nkill</th>\n",
       "      <th>targtype1_txt</th>\n",
       "      <th>gname</th>\n",
       "      <th>weaptype1_txt</th>\n",
       "    </tr>\n",
       "  </thead>\n",
       "  <tbody>\n",
       "    <tr>\n",
       "      <th>0</th>\n",
       "      <td>1970</td>\n",
       "      <td>7</td>\n",
       "      <td>2</td>\n",
       "      <td>0</td>\n",
       "      <td>Dominican Republic</td>\n",
       "      <td>Central America &amp; Caribbean</td>\n",
       "      <td>Santo Domingo</td>\n",
       "      <td>1</td>\n",
       "      <td>0</td>\n",
       "      <td>0.0</td>\n",
       "      <td>1.0</td>\n",
       "      <td>Private Citizens &amp; Property</td>\n",
       "      <td>MANO-D</td>\n",
       "      <td>Unknown</td>\n",
       "    </tr>\n",
       "    <tr>\n",
       "      <th>1</th>\n",
       "      <td>1970</td>\n",
       "      <td>0</td>\n",
       "      <td>0</td>\n",
       "      <td>0</td>\n",
       "      <td>Mexico</td>\n",
       "      <td>North America</td>\n",
       "      <td>Mexico city</td>\n",
       "      <td>1</td>\n",
       "      <td>0</td>\n",
       "      <td>0.0</td>\n",
       "      <td>0.0</td>\n",
       "      <td>Government (Diplomatic)</td>\n",
       "      <td>23rd of September Communist League</td>\n",
       "      <td>Unknown</td>\n",
       "    </tr>\n",
       "    <tr>\n",
       "      <th>2</th>\n",
       "      <td>1970</td>\n",
       "      <td>1</td>\n",
       "      <td>0</td>\n",
       "      <td>0</td>\n",
       "      <td>Philippines</td>\n",
       "      <td>Southeast Asia</td>\n",
       "      <td>Unknown</td>\n",
       "      <td>1</td>\n",
       "      <td>0</td>\n",
       "      <td>0.0</td>\n",
       "      <td>1.0</td>\n",
       "      <td>Journalists &amp; Media</td>\n",
       "      <td>Unknown</td>\n",
       "      <td>Unknown</td>\n",
       "    </tr>\n",
       "    <tr>\n",
       "      <th>3</th>\n",
       "      <td>1970</td>\n",
       "      <td>1</td>\n",
       "      <td>0</td>\n",
       "      <td>0</td>\n",
       "      <td>Greece</td>\n",
       "      <td>Western Europe</td>\n",
       "      <td>Athens</td>\n",
       "      <td>1</td>\n",
       "      <td>0</td>\n",
       "      <td>NaN</td>\n",
       "      <td>NaN</td>\n",
       "      <td>Government (Diplomatic)</td>\n",
       "      <td>Unknown</td>\n",
       "      <td>Explosives</td>\n",
       "    </tr>\n",
       "    <tr>\n",
       "      <th>4</th>\n",
       "      <td>1970</td>\n",
       "      <td>1</td>\n",
       "      <td>0</td>\n",
       "      <td>0</td>\n",
       "      <td>Japan</td>\n",
       "      <td>East Asia</td>\n",
       "      <td>Fukouka</td>\n",
       "      <td>1</td>\n",
       "      <td>0</td>\n",
       "      <td>NaN</td>\n",
       "      <td>NaN</td>\n",
       "      <td>Government (Diplomatic)</td>\n",
       "      <td>Unknown</td>\n",
       "      <td>Incendiary</td>\n",
       "    </tr>\n",
       "  </tbody>\n",
       "</table>\n",
       "</div>"
      ],
      "text/plain": [
       "   iyear  imonth  ...                               gname  weaptype1_txt\n",
       "0   1970       7  ...                              MANO-D        Unknown\n",
       "1   1970       0  ...  23rd of September Communist League        Unknown\n",
       "2   1970       1  ...                             Unknown        Unknown\n",
       "3   1970       1  ...                             Unknown     Explosives\n",
       "4   1970       1  ...                             Unknown     Incendiary\n",
       "\n",
       "[5 rows x 14 columns]"
      ]
     },
     "execution_count": 5,
     "metadata": {
      "tags": []
     },
     "output_type": "execute_result"
    }
   ],
   "source": [
    "data=dataset.copy()\n",
    "\n",
    "data=data[['iyear', 'imonth', 'iday','extended', 'country_txt', \n",
    "       'region_txt', 'city', 'success', 'suicide','nwound','nkill',\n",
    "       'targtype1_txt', 'gname', 'weaptype1_txt']]\n",
    "data.head()"
   ]
  },
  {
   "cell_type": "code",
   "execution_count": 6,
   "metadata": {
    "colab": {
     "base_uri": "https://localhost:8080/"
    },
    "id": "OKivoKyBWy81",
    "outputId": "c416fe1c-5bd4-47c9-ed04-4290dbeb5f9c"
   },
   "outputs": [
    {
     "data": {
      "text/plain": [
       "iyear                0\n",
       "imonth               0\n",
       "iday                 0\n",
       "extended             0\n",
       "country_txt          0\n",
       "region_txt           0\n",
       "city               434\n",
       "success              0\n",
       "suicide              0\n",
       "nwound           16311\n",
       "nkill            10313\n",
       "targtype1_txt        0\n",
       "gname                0\n",
       "weaptype1_txt        0\n",
       "dtype: int64"
      ]
     },
     "execution_count": 6,
     "metadata": {
      "tags": []
     },
     "output_type": "execute_result"
    }
   ],
   "source": [
    "data.isnull().sum()"
   ]
  },
  {
   "cell_type": "code",
   "execution_count": 7,
   "metadata": {
    "id": "2eqYfOHzW_9g"
   },
   "outputs": [],
   "source": [
    "data.dropna(axis=0, inplace=True)"
   ]
  },
  {
   "cell_type": "code",
   "execution_count": 8,
   "metadata": {
    "colab": {
     "base_uri": "https://localhost:8080/",
     "height": 238
    },
    "id": "V8sG39QQXChm",
    "outputId": "bec49dea-84ac-4d5f-e79a-4a50c8c7c686"
   },
   "outputs": [
    {
     "data": {
      "text/html": [
       "<div>\n",
       "<style scoped>\n",
       "    .dataframe tbody tr th:only-of-type {\n",
       "        vertical-align: middle;\n",
       "    }\n",
       "\n",
       "    .dataframe tbody tr th {\n",
       "        vertical-align: top;\n",
       "    }\n",
       "\n",
       "    .dataframe thead th {\n",
       "        text-align: right;\n",
       "    }\n",
       "</style>\n",
       "<table border=\"1\" class=\"dataframe\">\n",
       "  <thead>\n",
       "    <tr style=\"text-align: right;\">\n",
       "      <th></th>\n",
       "      <th>year</th>\n",
       "      <th>month</th>\n",
       "      <th>day</th>\n",
       "      <th>extended</th>\n",
       "      <th>country</th>\n",
       "      <th>region</th>\n",
       "      <th>city</th>\n",
       "      <th>success</th>\n",
       "      <th>suicide</th>\n",
       "      <th>wound</th>\n",
       "      <th>killed</th>\n",
       "      <th>target</th>\n",
       "      <th>group</th>\n",
       "      <th>weapon</th>\n",
       "    </tr>\n",
       "  </thead>\n",
       "  <tbody>\n",
       "    <tr>\n",
       "      <th>0</th>\n",
       "      <td>1970</td>\n",
       "      <td>7</td>\n",
       "      <td>2</td>\n",
       "      <td>0</td>\n",
       "      <td>Dominican Republic</td>\n",
       "      <td>Central America &amp; Caribbean</td>\n",
       "      <td>Santo Domingo</td>\n",
       "      <td>1</td>\n",
       "      <td>0</td>\n",
       "      <td>0.0</td>\n",
       "      <td>1.0</td>\n",
       "      <td>Private Citizens &amp; Property</td>\n",
       "      <td>MANO-D</td>\n",
       "      <td>Unknown</td>\n",
       "    </tr>\n",
       "    <tr>\n",
       "      <th>1</th>\n",
       "      <td>1970</td>\n",
       "      <td>0</td>\n",
       "      <td>0</td>\n",
       "      <td>0</td>\n",
       "      <td>Mexico</td>\n",
       "      <td>North America</td>\n",
       "      <td>Mexico city</td>\n",
       "      <td>1</td>\n",
       "      <td>0</td>\n",
       "      <td>0.0</td>\n",
       "      <td>0.0</td>\n",
       "      <td>Government (Diplomatic)</td>\n",
       "      <td>23rd of September Communist League</td>\n",
       "      <td>Unknown</td>\n",
       "    </tr>\n",
       "    <tr>\n",
       "      <th>2</th>\n",
       "      <td>1970</td>\n",
       "      <td>1</td>\n",
       "      <td>0</td>\n",
       "      <td>0</td>\n",
       "      <td>Philippines</td>\n",
       "      <td>Southeast Asia</td>\n",
       "      <td>Unknown</td>\n",
       "      <td>1</td>\n",
       "      <td>0</td>\n",
       "      <td>0.0</td>\n",
       "      <td>1.0</td>\n",
       "      <td>Journalists &amp; Media</td>\n",
       "      <td>Unknown</td>\n",
       "      <td>Unknown</td>\n",
       "    </tr>\n",
       "    <tr>\n",
       "      <th>5</th>\n",
       "      <td>1970</td>\n",
       "      <td>1</td>\n",
       "      <td>1</td>\n",
       "      <td>0</td>\n",
       "      <td>United States</td>\n",
       "      <td>North America</td>\n",
       "      <td>Cairo</td>\n",
       "      <td>1</td>\n",
       "      <td>0</td>\n",
       "      <td>0.0</td>\n",
       "      <td>0.0</td>\n",
       "      <td>Police</td>\n",
       "      <td>Black Nationalists</td>\n",
       "      <td>Firearms</td>\n",
       "    </tr>\n",
       "    <tr>\n",
       "      <th>6</th>\n",
       "      <td>1970</td>\n",
       "      <td>1</td>\n",
       "      <td>2</td>\n",
       "      <td>0</td>\n",
       "      <td>Uruguay</td>\n",
       "      <td>South America</td>\n",
       "      <td>Montevideo</td>\n",
       "      <td>0</td>\n",
       "      <td>0</td>\n",
       "      <td>0.0</td>\n",
       "      <td>0.0</td>\n",
       "      <td>Police</td>\n",
       "      <td>Tupamaros (Uruguay)</td>\n",
       "      <td>Firearms</td>\n",
       "    </tr>\n",
       "  </tbody>\n",
       "</table>\n",
       "</div>"
      ],
      "text/plain": [
       "   year  month  ...                               group    weapon\n",
       "0  1970      7  ...                              MANO-D   Unknown\n",
       "1  1970      0  ...  23rd of September Communist League   Unknown\n",
       "2  1970      1  ...                             Unknown   Unknown\n",
       "5  1970      1  ...                  Black Nationalists  Firearms\n",
       "6  1970      1  ...                 Tupamaros (Uruguay)  Firearms\n",
       "\n",
       "[5 rows x 14 columns]"
      ]
     },
     "execution_count": 8,
     "metadata": {
      "tags": []
     },
     "output_type": "execute_result"
    }
   ],
   "source": [
    "data.rename(columns={'iyear': 'year', 'imonth': 'month', 'iday':'day', 'country_txt':'country','attacktype1_txt':'attactype','nwound':'wound','nkill':'killed',\n",
    "                  'region_txt':'region', 'targtype1_txt':'target', 'gname':'group', 'weaptype1_txt':'weapon'}, inplace=True)\n",
    "data.head()"
   ]
  },
  {
   "cell_type": "code",
   "execution_count": 9,
   "metadata": {
    "colab": {
     "base_uri": "https://localhost:8080/",
     "height": 584
    },
    "id": "9xEybsRtXE61",
    "outputId": "abd8b98f-4603-405d-f0be-c9eb6c4306ab"
   },
   "outputs": [
    {
     "name": "stderr",
     "output_type": "stream",
     "text": [
      "/usr/local/lib/python3.6/dist-packages/seaborn/_decorators.py:43: FutureWarning: Pass the following variable as a keyword arg: x. From version 0.12, the only valid positional argument will be `data`, and passing other arguments without an explicit keyword will result in an error or misinterpretation.\n",
      "  FutureWarning\n"
     ]
    },
    {
     "data": {
      "image/png": "[encoded data removed]",
      "text/plain": [
       "<Figure size 720x576 with 1 Axes>"
      ]
     },
     "metadata": {
      "needs_background": "light",
      "tags": []
     },
     "output_type": "display_data"
    }
   ],
   "source": [
    "plt.subplots(figsize=(10,8))\n",
    "sns.countplot('year',data=data,palette='rocket',edgecolor=sns.color_palette('dark',7))\n",
    "plt.xticks(rotation=90)\n",
    "plt.xlabel('Year of attack')\n",
    "plt.title('Number Of Terrorist Act Each Year')\n",
    "plt.show()"
   ]
  },
  {
   "cell_type": "code",
   "execution_count": 10,
   "metadata": {
    "colab": {
     "base_uri": "https://localhost:8080/",
     "height": 359
    },
    "id": "YI1jL8K4XMvF",
    "outputId": "35a1438a-1290-4258-d485-f4cb2ea39afa"
   },
   "outputs": [
    {
     "data": {
      "text/html": [
       "<div>\n",
       "<style scoped>\n",
       "    .dataframe tbody tr th:only-of-type {\n",
       "        vertical-align: middle;\n",
       "    }\n",
       "\n",
       "    .dataframe tbody tr th {\n",
       "        vertical-align: top;\n",
       "    }\n",
       "\n",
       "    .dataframe thead th {\n",
       "        text-align: right;\n",
       "    }\n",
       "</style>\n",
       "<table border=\"1\" class=\"dataframe\">\n",
       "  <thead>\n",
       "    <tr style=\"text-align: right;\">\n",
       "      <th></th>\n",
       "      <th>year</th>\n",
       "      <th>Decade</th>\n",
       "    </tr>\n",
       "  </thead>\n",
       "  <tbody>\n",
       "    <tr>\n",
       "      <th>161721</th>\n",
       "      <td>2016</td>\n",
       "      <td>2010-2017</td>\n",
       "    </tr>\n",
       "    <tr>\n",
       "      <th>49356</th>\n",
       "      <td>1991</td>\n",
       "      <td>1990-2000</td>\n",
       "    </tr>\n",
       "    <tr>\n",
       "      <th>96790</th>\n",
       "      <td>2010</td>\n",
       "      <td>2000-2010</td>\n",
       "    </tr>\n",
       "    <tr>\n",
       "      <th>170101</th>\n",
       "      <td>2016</td>\n",
       "      <td>2010-2017</td>\n",
       "    </tr>\n",
       "    <tr>\n",
       "      <th>158253</th>\n",
       "      <td>2016</td>\n",
       "      <td>2010-2017</td>\n",
       "    </tr>\n",
       "    <tr>\n",
       "      <th>165770</th>\n",
       "      <td>2016</td>\n",
       "      <td>2010-2017</td>\n",
       "    </tr>\n",
       "    <tr>\n",
       "      <th>69266</th>\n",
       "      <td>1999</td>\n",
       "      <td>1990-2000</td>\n",
       "    </tr>\n",
       "    <tr>\n",
       "      <th>117840</th>\n",
       "      <td>2013</td>\n",
       "      <td>2010-2017</td>\n",
       "    </tr>\n",
       "    <tr>\n",
       "      <th>136628</th>\n",
       "      <td>2014</td>\n",
       "      <td>2010-2017</td>\n",
       "    </tr>\n",
       "    <tr>\n",
       "      <th>168359</th>\n",
       "      <td>2016</td>\n",
       "      <td>2010-2017</td>\n",
       "    </tr>\n",
       "  </tbody>\n",
       "</table>\n",
       "</div>"
      ],
      "text/plain": [
       "        year     Decade\n",
       "161721  2016  2010-2017\n",
       "49356   1991  1990-2000\n",
       "96790   2010  2000-2010\n",
       "170101  2016  2010-2017\n",
       "158253  2016  2010-2017\n",
       "165770  2016  2010-2017\n",
       "69266   1999  1990-2000\n",
       "117840  2013  2010-2017\n",
       "136628  2014  2010-2017\n",
       "168359  2016  2010-2017"
      ]
     },
     "execution_count": 10,
     "metadata": {
      "tags": []
     },
     "output_type": "execute_result"
    }
   ],
   "source": [
    "data['Decade'] = pd.cut(data['year'], bins=[1969, 1980, 1990, 2000, 2010, 2020], labels=['1970-1980', '1980-1990', '1990-2000', '2000-2010', '2010-2017'])\n",
    "data[['year','Decade']].sample(10)"
   ]
  },
  {
   "cell_type": "code",
   "execution_count": 11,
   "metadata": {
    "colab": {
     "base_uri": "https://localhost:8080/",
     "height": 250
    },
    "id": "CnZC7T1qXQhk",
    "outputId": "b29b2c6e-0760-4df0-a751-b35e58b03f87"
   },
   "outputs": [
    {
     "data": {
      "image/png": "[encoded data removed]",
      "text/plain": [
       "<Figure size 432x288 with 1 Axes>"
      ]
     },
     "metadata": {
      "tags": []
     },
     "output_type": "display_data"
    }
   ],
   "source": [
    "dec = data['Decade'].value_counts()\n",
    "\n",
    "colors= 'red','blue','orange','pink','yellow'\n",
    "plt.pie(dec,labels=dec.index,colors=colors,autopct='%1.1f%%', startangle=180)\n",
    "plt.axis('equal')\n",
    "plt.show()"
   ]
  },
  {
   "cell_type": "code",
   "execution_count": 12,
   "metadata": {
    "colab": {
     "base_uri": "https://localhost:8080/",
     "height": 487
    },
    "id": "8ld-cKU6XUeO",
    "outputId": "8b1c32f6-394d-477e-838c-f52934e0f4ee"
   },
   "outputs": [
    {
     "name": "stderr",
     "output_type": "stream",
     "text": [
      "/usr/local/lib/python3.6/dist-packages/seaborn/_decorators.py:43: FutureWarning: Pass the following variable as a keyword arg: x. From version 0.12, the only valid positional argument will be `data`, and passing other arguments without an explicit keyword will result in an error or misinterpretation.\n",
      "  FutureWarning\n"
     ]
    },
    {
     "data": {
      "image/png": "[encoded data removed]",
      "text/plain": [
       "<Figure size 432x288 with 1 Axes>"
      ]
     },
     "metadata": {
      "needs_background": "light",
      "tags": []
     },
     "output_type": "display_data"
    }
   ],
   "source": [
    "sns.countplot('region',data=data,palette='dark',order=data['region'].value_counts().index)\n",
    "plt.xticks(rotation=90)\n",
    "plt.xlabel('Regions')\n",
    "plt.title('Number Of Terrorist Activities By Region')\n",
    "plt.show()"
   ]
  },
  {
   "cell_type": "code",
   "execution_count": 13,
   "metadata": {
    "id": "ZLeYuFJTXg9W"
   },
   "outputs": [],
   "source": [
    "def city_name(country=list(data['country'].unique())):\n",
    "    a=data[data['country']==country]\n",
    "    a=pd.DataFrame(a['city'].value_counts().iloc[1:10])\n",
    "    return a.style.highlight_max(axis=0, color='red').highlight_min(axis=0, color='green')"
   ]
  },
  {
   "cell_type": "code",
   "execution_count": 14,
   "metadata": {
    "colab": {
     "base_uri": "https://localhost:8080/",
     "height": 229
    },
    "id": "pQ5Vo2yLXmVP",
    "outputId": "35aeb37d-8cfe-4353-eb09-555c3219524b"
   },
   "outputs": [
    {
     "data": {
      "text/html": [
       "<style  type=\"text/css\" >\n",
       "#T_51ddc736_5bb2_11eb_a60c_0242ac1c0002row0_col0{\n",
       "            background-color:  red;\n",
       "        }#T_51ddc736_5bb2_11eb_a60c_0242ac1c0002row8_col0{\n",
       "            background-color:  green;\n",
       "        }</style><table id=\"T_51ddc736_5bb2_11eb_a60c_0242ac1c0002\" ><thead>    <tr>        <th class=\"blank level0\" ></th>        <th class=\"col_heading level0 col0\" >city</th>    </tr></thead><tbody>\n",
       "                <tr>\n",
       "                        <th id=\"T_51ddc736_5bb2_11eb_a60c_0242ac1c0002level0_row0\" class=\"row_heading level0 row0\" >Baghdad</th>\n",
       "                        <td id=\"T_51ddc736_5bb2_11eb_a60c_0242ac1c0002row0_col0\" class=\"data row0 col0\" >7374</td>\n",
       "            </tr>\n",
       "            <tr>\n",
       "                        <th id=\"T_51ddc736_5bb2_11eb_a60c_0242ac1c0002level0_row1\" class=\"row_heading level0 row1\" >Karachi</th>\n",
       "                        <td id=\"T_51ddc736_5bb2_11eb_a60c_0242ac1c0002row1_col0\" class=\"data row1 col0\" >2571</td>\n",
       "            </tr>\n",
       "            <tr>\n",
       "                        <th id=\"T_51ddc736_5bb2_11eb_a60c_0242ac1c0002level0_row2\" class=\"row_heading level0 row2\" >Lima</th>\n",
       "                        <td id=\"T_51ddc736_5bb2_11eb_a60c_0242ac1c0002row2_col0\" class=\"data row2 col0\" >2124</td>\n",
       "            </tr>\n",
       "            <tr>\n",
       "                        <th id=\"T_51ddc736_5bb2_11eb_a60c_0242ac1c0002level0_row3\" class=\"row_heading level0 row3\" >Mosul</th>\n",
       "                        <td id=\"T_51ddc736_5bb2_11eb_a60c_0242ac1c0002row3_col0\" class=\"data row3 col0\" >2114</td>\n",
       "            </tr>\n",
       "            <tr>\n",
       "                        <th id=\"T_51ddc736_5bb2_11eb_a60c_0242ac1c0002level0_row4\" class=\"row_heading level0 row4\" >Mogadishu</th>\n",
       "                        <td id=\"T_51ddc736_5bb2_11eb_a60c_0242ac1c0002row4_col0\" class=\"data row4 col0\" >1375</td>\n",
       "            </tr>\n",
       "            <tr>\n",
       "                        <th id=\"T_51ddc736_5bb2_11eb_a60c_0242ac1c0002level0_row5\" class=\"row_heading level0 row5\" >Santiago</th>\n",
       "                        <td id=\"T_51ddc736_5bb2_11eb_a60c_0242ac1c0002row5_col0\" class=\"data row5 col0\" >1354</td>\n",
       "            </tr>\n",
       "            <tr>\n",
       "                        <th id=\"T_51ddc736_5bb2_11eb_a60c_0242ac1c0002level0_row6\" class=\"row_heading level0 row6\" >Belfast</th>\n",
       "                        <td id=\"T_51ddc736_5bb2_11eb_a60c_0242ac1c0002row6_col0\" class=\"data row6 col0\" >1328</td>\n",
       "            </tr>\n",
       "            <tr>\n",
       "                        <th id=\"T_51ddc736_5bb2_11eb_a60c_0242ac1c0002level0_row7\" class=\"row_heading level0 row7\" >San Salvador</th>\n",
       "                        <td id=\"T_51ddc736_5bb2_11eb_a60c_0242ac1c0002row7_col0\" class=\"data row7 col0\" >1254</td>\n",
       "            </tr>\n",
       "            <tr>\n",
       "                        <th id=\"T_51ddc736_5bb2_11eb_a60c_0242ac1c0002level0_row8\" class=\"row_heading level0 row8\" >Istanbul</th>\n",
       "                        <td id=\"T_51ddc736_5bb2_11eb_a60c_0242ac1c0002row8_col0\" class=\"data row8 col0\" >1011</td>\n",
       "            </tr>\n",
       "    </tbody></table>"
      ],
      "text/plain": [
       "<pandas.io.formats.style.Styler at 0x7f3d6eb32ba8>"
      ]
     },
     "execution_count": 14,
     "metadata": {
      "tags": []
     },
     "output_type": "execute_result"
    }
   ],
   "source": [
    "city_name(data['country'])"
   ]
  },
  {
   "cell_type": "code",
   "execution_count": 15,
   "metadata": {
    "id": "xgM12Ty4XpfV"
   },
   "outputs": [],
   "source": [
    "def weapon_type(country=list(data['country'].unique())):\n",
    "    a=data[data['country']==country]\n",
    "    a=pd.DataFrame(a['weapon'].value_counts())\n",
    "    return a.style.highlight_max(axis=0)"
   ]
  },
  {
   "cell_type": "code",
   "execution_count": 16,
   "metadata": {
    "colab": {
     "base_uri": "https://localhost:8080/",
     "height": 229
    },
    "id": "yBtVTh_xXzt7",
    "outputId": "34f31a12-b4f7-44de-f050-fbdf3de43650"
   },
   "outputs": [
    {
     "data": {
      "text/html": [
       "<style  type=\"text/css\" >\n",
       "#T_d1d09734_5bb2_11eb_a60c_0242ac1c0002row0_col0{\n",
       "            background-color:  red;\n",
       "        }#T_d1d09734_5bb2_11eb_a60c_0242ac1c0002row8_col0{\n",
       "            background-color:  green;\n",
       "        }</style><table id=\"T_d1d09734_5bb2_11eb_a60c_0242ac1c0002\" ><thead>    <tr>        <th class=\"blank level0\" ></th>        <th class=\"col_heading level0 col0\" >city</th>    </tr></thead><tbody>\n",
       "                <tr>\n",
       "                        <th id=\"T_d1d09734_5bb2_11eb_a60c_0242ac1c0002level0_row0\" class=\"row_heading level0 row0\" >Baghdad</th>\n",
       "                        <td id=\"T_d1d09734_5bb2_11eb_a60c_0242ac1c0002row0_col0\" class=\"data row0 col0\" >7374</td>\n",
       "            </tr>\n",
       "            <tr>\n",
       "                        <th id=\"T_d1d09734_5bb2_11eb_a60c_0242ac1c0002level0_row1\" class=\"row_heading level0 row1\" >Karachi</th>\n",
       "                        <td id=\"T_d1d09734_5bb2_11eb_a60c_0242ac1c0002row1_col0\" class=\"data row1 col0\" >2571</td>\n",
       "            </tr>\n",
       "            <tr>\n",
       "                        <th id=\"T_d1d09734_5bb2_11eb_a60c_0242ac1c0002level0_row2\" class=\"row_heading level0 row2\" >Lima</th>\n",
       "                        <td id=\"T_d1d09734_5bb2_11eb_a60c_0242ac1c0002row2_col0\" class=\"data row2 col0\" >2124</td>\n",
       "            </tr>\n",
       "            <tr>\n",
       "                        <th id=\"T_d1d09734_5bb2_11eb_a60c_0242ac1c0002level0_row3\" class=\"row_heading level0 row3\" >Mosul</th>\n",
       "                        <td id=\"T_d1d09734_5bb2_11eb_a60c_0242ac1c0002row3_col0\" class=\"data row3 col0\" >2114</td>\n",
       "            </tr>\n",
       "            <tr>\n",
       "                        <th id=\"T_d1d09734_5bb2_11eb_a60c_0242ac1c0002level0_row4\" class=\"row_heading level0 row4\" >Mogadishu</th>\n",
       "                        <td id=\"T_d1d09734_5bb2_11eb_a60c_0242ac1c0002row4_col0\" class=\"data row4 col0\" >1375</td>\n",
       "            </tr>\n",
       "            <tr>\n",
       "                        <th id=\"T_d1d09734_5bb2_11eb_a60c_0242ac1c0002level0_row5\" class=\"row_heading level0 row5\" >Santiago</th>\n",
       "                        <td id=\"T_d1d09734_5bb2_11eb_a60c_0242ac1c0002row5_col0\" class=\"data row5 col0\" >1354</td>\n",
       "            </tr>\n",
       "            <tr>\n",
       "                        <th id=\"T_d1d09734_5bb2_11eb_a60c_0242ac1c0002level0_row6\" class=\"row_heading level0 row6\" >Belfast</th>\n",
       "                        <td id=\"T_d1d09734_5bb2_11eb_a60c_0242ac1c0002row6_col0\" class=\"data row6 col0\" >1328</td>\n",
       "            </tr>\n",
       "            <tr>\n",
       "                        <th id=\"T_d1d09734_5bb2_11eb_a60c_0242ac1c0002level0_row7\" class=\"row_heading level0 row7\" >San Salvador</th>\n",
       "                        <td id=\"T_d1d09734_5bb2_11eb_a60c_0242ac1c0002row7_col0\" class=\"data row7 col0\" >1254</td>\n",
       "            </tr>\n",
       "            <tr>\n",
       "                        <th id=\"T_d1d09734_5bb2_11eb_a60c_0242ac1c0002level0_row8\" class=\"row_heading level0 row8\" >Istanbul</th>\n",
       "                        <td id=\"T_d1d09734_5bb2_11eb_a60c_0242ac1c0002row8_col0\" class=\"data row8 col0\" >1011</td>\n",
       "            </tr>\n",
       "    </tbody></table>"
      ],
      "text/plain": [
       "<pandas.io.formats.style.Styler at 0x7f3d6e867f98>"
      ]
     },
     "execution_count": 16,
     "metadata": {
      "tags": []
     },
     "output_type": "execute_result"
    }
   ],
   "source": [
    "city_name(data['country'])"
   ]
  },
  {
   "cell_type": "code",
   "execution_count": 17,
   "metadata": {
    "id": "E2GC4owcp39V"
   },
   "outputs": [],
   "source": [
    "#weapons used\n",
    "def weapon_type(country=list(data['country'].unique())):\n",
    "    a=data[data['country']==country]\n",
    "    a=pd.DataFrame(a['weapon'].value_counts())\n",
    "    return a.style.highlight_max(axis=0)"
   ]
  },
  {
   "cell_type": "code",
   "execution_count": 18,
   "metadata": {
    "colab": {
     "base_uri": "https://localhost:8080/",
     "height": 292
    },
    "id": "VbymYaehp-69",
    "outputId": "c812c36f-e9a3-4b98-8a7f-ede86b847fca"
   },
   "outputs": [
    {
     "data": {
      "text/html": [
       "<style  type=\"text/css\" >\n",
       "#T_ff2422d2_5bb2_11eb_a60c_0242ac1c0002row0_col0{\n",
       "            background-color:  yellow;\n",
       "        }</style><table id=\"T_ff2422d2_5bb2_11eb_a60c_0242ac1c0002\" ><thead>    <tr>        <th class=\"blank level0\" ></th>        <th class=\"col_heading level0 col0\" >weapon</th>    </tr></thead><tbody>\n",
       "                <tr>\n",
       "                        <th id=\"T_ff2422d2_5bb2_11eb_a60c_0242ac1c0002level0_row0\" class=\"row_heading level0 row0\" >Explosives</th>\n",
       "                        <td id=\"T_ff2422d2_5bb2_11eb_a60c_0242ac1c0002row0_col0\" class=\"data row0 col0\" >86231</td>\n",
       "            </tr>\n",
       "            <tr>\n",
       "                        <th id=\"T_ff2422d2_5bb2_11eb_a60c_0242ac1c0002level0_row1\" class=\"row_heading level0 row1\" >Firearms</th>\n",
       "                        <td id=\"T_ff2422d2_5bb2_11eb_a60c_0242ac1c0002row1_col0\" class=\"data row1 col0\" >51645</td>\n",
       "            </tr>\n",
       "            <tr>\n",
       "                        <th id=\"T_ff2422d2_5bb2_11eb_a60c_0242ac1c0002level0_row2\" class=\"row_heading level0 row2\" >Unknown</th>\n",
       "                        <td id=\"T_ff2422d2_5bb2_11eb_a60c_0242ac1c0002row2_col0\" class=\"data row2 col0\" >12083</td>\n",
       "            </tr>\n",
       "            <tr>\n",
       "                        <th id=\"T_ff2422d2_5bb2_11eb_a60c_0242ac1c0002level0_row3\" class=\"row_heading level0 row3\" >Incendiary</th>\n",
       "                        <td id=\"T_ff2422d2_5bb2_11eb_a60c_0242ac1c0002row3_col0\" class=\"data row3 col0\" >10285</td>\n",
       "            </tr>\n",
       "            <tr>\n",
       "                        <th id=\"T_ff2422d2_5bb2_11eb_a60c_0242ac1c0002level0_row4\" class=\"row_heading level0 row4\" >Melee</th>\n",
       "                        <td id=\"T_ff2422d2_5bb2_11eb_a60c_0242ac1c0002row4_col0\" class=\"data row4 col0\" >3381</td>\n",
       "            </tr>\n",
       "            <tr>\n",
       "                        <th id=\"T_ff2422d2_5bb2_11eb_a60c_0242ac1c0002level0_row5\" class=\"row_heading level0 row5\" >Chemical</th>\n",
       "                        <td id=\"T_ff2422d2_5bb2_11eb_a60c_0242ac1c0002row5_col0\" class=\"data row5 col0\" >302</td>\n",
       "            </tr>\n",
       "            <tr>\n",
       "                        <th id=\"T_ff2422d2_5bb2_11eb_a60c_0242ac1c0002level0_row6\" class=\"row_heading level0 row6\" >Sabotage Equipment</th>\n",
       "                        <td id=\"T_ff2422d2_5bb2_11eb_a60c_0242ac1c0002row6_col0\" class=\"data row6 col0\" >136</td>\n",
       "            </tr>\n",
       "            <tr>\n",
       "                        <th id=\"T_ff2422d2_5bb2_11eb_a60c_0242ac1c0002level0_row7\" class=\"row_heading level0 row7\" >Vehicle (not to include vehicle-borne explosives, i.e., car or truck bombs)</th>\n",
       "                        <td id=\"T_ff2422d2_5bb2_11eb_a60c_0242ac1c0002row7_col0\" class=\"data row7 col0\" >133</td>\n",
       "            </tr>\n",
       "            <tr>\n",
       "                        <th id=\"T_ff2422d2_5bb2_11eb_a60c_0242ac1c0002level0_row8\" class=\"row_heading level0 row8\" >Other</th>\n",
       "                        <td id=\"T_ff2422d2_5bb2_11eb_a60c_0242ac1c0002row8_col0\" class=\"data row8 col0\" >109</td>\n",
       "            </tr>\n",
       "            <tr>\n",
       "                        <th id=\"T_ff2422d2_5bb2_11eb_a60c_0242ac1c0002level0_row9\" class=\"row_heading level0 row9\" >Fake Weapons</th>\n",
       "                        <td id=\"T_ff2422d2_5bb2_11eb_a60c_0242ac1c0002row9_col0\" class=\"data row9 col0\" >33</td>\n",
       "            </tr>\n",
       "            <tr>\n",
       "                        <th id=\"T_ff2422d2_5bb2_11eb_a60c_0242ac1c0002level0_row10\" class=\"row_heading level0 row10\" >Biological</th>\n",
       "                        <td id=\"T_ff2422d2_5bb2_11eb_a60c_0242ac1c0002row10_col0\" class=\"data row10 col0\" >32</td>\n",
       "            </tr>\n",
       "            <tr>\n",
       "                        <th id=\"T_ff2422d2_5bb2_11eb_a60c_0242ac1c0002level0_row11\" class=\"row_heading level0 row11\" >Radiological</th>\n",
       "                        <td id=\"T_ff2422d2_5bb2_11eb_a60c_0242ac1c0002row11_col0\" class=\"data row11 col0\" >14</td>\n",
       "            </tr>\n",
       "    </tbody></table>"
      ],
      "text/plain": [
       "<pandas.io.formats.style.Styler at 0x7f3d6e863fd0>"
      ]
     },
     "execution_count": 18,
     "metadata": {
      "tags": []
     },
     "output_type": "execute_result"
    }
   ],
   "source": [
    "weapon_type(data['country'])"
   ]
  },
  {
   "cell_type": "code",
   "execution_count": 19,
   "metadata": {
    "colab": {
     "base_uri": "https://localhost:8080/",
     "height": 706
    },
    "id": "ngNEe0gBqKiA",
    "outputId": "b67fd12c-2962-4c1e-8e8b-b9b2e8f88379"
   },
   "outputs": [
    {
     "name": "stderr",
     "output_type": "stream",
     "text": [
      "/usr/local/lib/python3.6/dist-packages/seaborn/_decorators.py:43: FutureWarning: Pass the following variable as a keyword arg: x. From version 0.12, the only valid positional argument will be `data`, and passing other arguments without an explicit keyword will result in an error or misinterpretation.\n",
      "  FutureWarning\n"
     ]
    },
    {
     "data": {
      "image/png": "[encoded data removed]",
      "text/plain": [
       "<Figure size 432x288 with 1 Axes>"
      ]
     },
     "metadata": {
      "needs_background": "light",
      "tags": []
     },
     "output_type": "display_data"
    }
   ],
   "source": [
    "sns.countplot('weapon',data=data,palette='bright',order=data['weapon'].value_counts().index)\n",
    "plt.xticks(rotation=90)\n",
    "plt.xlabel('weapons')\n",
    "plt.title('weapons of Terrorist')\n",
    "plt.show()"
   ]
  },
  {
   "cell_type": "code",
   "execution_count": 20,
   "metadata": {
    "colab": {
     "base_uri": "https://localhost:8080/",
     "height": 485
    },
    "id": "DNVOu2M0qU72",
    "outputId": "cc6e9e87-592b-4248-d7b4-46542e9fdd0e"
   },
   "outputs": [
    {
     "name": "stderr",
     "output_type": "stream",
     "text": [
      "/usr/local/lib/python3.6/dist-packages/seaborn/_decorators.py:43: FutureWarning: Pass the following variable as a keyword arg: x. From version 0.12, the only valid positional argument will be `data`, and passing other arguments without an explicit keyword will result in an error or misinterpretation.\n",
      "  FutureWarning\n"
     ]
    },
    {
     "data": {
      "image/png": "[encoded data removed]",
      "text/plain": [
       "<Figure size 432x288 with 1 Axes>"
      ]
     },
     "metadata": {
      "needs_background": "light",
      "tags": []
     },
     "output_type": "display_data"
    }
   ],
   "source": [
    "sns.countplot('target',data=data,palette='bright',order=data['target'].value_counts().index)\n",
    "plt.xticks(rotation=90)\n",
    "plt.xlabel('target')\n",
    "plt.title('Target of Terrorist')\n",
    "plt.show()"
   ]
  },
  {
   "cell_type": "code",
   "execution_count": 21,
   "metadata": {
    "colab": {
     "base_uri": "https://localhost:8080/",
     "height": 515
    },
    "id": "MXFf5-1uqajF",
    "outputId": "d7562c00-c6dd-4b6c-84f6-3af14c247f0f"
   },
   "outputs": [
    {
     "data": {
      "text/plain": [
       "Text(0, 0.5, 'Wounded')"
      ]
     },
     "execution_count": 21,
     "metadata": {
      "tags": []
     },
     "output_type": "execute_result"
    },
    {
     "data": {
      "image/png": "[encoded data removed]",
      "text/plain": [
       "<Figure size 1080x576 with 1 Axes>"
      ]
     },
     "metadata": {
      "needs_background": "light",
      "tags": []
     },
     "output_type": "display_data"
    }
   ],
   "source": [
    "\n",
    "d=data.groupby(['year','region'])['killed'].sum()\n",
    "plot_df = d.unstack('region').loc[:]\n",
    "plot_df.index = pd.PeriodIndex(plot_df.index.tolist(),freq='A')\n",
    "plot_df.plot(figsize=(15,8),color=sns.color_palette('dark',12))\n",
    "plt.xlabel(\"Year\")\n",
    "plt.ylabel(\"Wounded\")"
   ]
  },
  {
   "cell_type": "code",
   "execution_count": 22,
   "metadata": {
    "colab": {
     "base_uri": "https://localhost:8080/"
    },
    "id": "83XONya6qdGp",
    "outputId": "1135cb6a-bab5-4fac-b123-946392547537"
   },
   "outputs": [
    {
     "data": {
      "text/plain": [
       "1    145013\n",
       "0     19371\n",
       "Name: success, dtype: int64"
      ]
     },
     "execution_count": 22,
     "metadata": {
      "tags": []
     },
     "output_type": "execute_result"
    }
   ],
   "source": [
    "suc = data['success'].value_counts()\n",
    "suc"
   ]
  },
  {
   "cell_type": "code",
   "execution_count": 24,
   "metadata": {
    "colab": {
     "base_uri": "https://localhost:8080/",
     "height": 248
    },
    "id": "yVmMFO-Qqv6S",
    "outputId": "c2ef76ba-bcac-4580-e33a-b1fef82c111e"
   },
   "outputs": [
    {
     "data": {
      "image/png": "[encoded data removed]",
      "text/plain": [
       "<Figure size 432x288 with 1 Axes>"
      ]
     },
     "metadata": {
      "tags": []
     },
     "output_type": "display_data"
    }
   ],
   "source": [
    "labels = 'Successful', 'Failed'\n",
    "\n",
    "colors = ['purple', 'orange']\n",
    "explode = (0.25, 0)\n",
    "plt.pie(suc, labels=labels, explode=explode,colors=colors,autopct='%1.1f%%', shadow=True, startangle=200)\n",
    "plt.show()"
   ]
  },
  {
   "cell_type": "code",
   "execution_count": null,
   "metadata": {
    "id": "6DoveAYMqypr"
   },
   "outputs": [],
   "source": [
    "2010-2017 year is highly attacked by terrorist\n",
    "Middle East and North Africa Region Mostly affect\n",
    "In city wise Baghdad city highly affect\n",
    "In terrorist moslty use Explosive, firearms weapon but they leastuse any biological and radiology\n",
    "Middle east and South Africa more people killed by terrorist its is Hot zone\n",
    "88.2% terrorist plane success remain 11.8% they plan failed</div>"
   ]
  }
 ],
 "metadata": {
  "colab": {
   "collapsed_sections": [],
   "name": "GRIP_TASK_4",
   "provenance": []
  },
  "kernelspec": {
   "display_name": "Python 3",
   "language": "python",
   "name": "python3"
  },
  "language_info": {
   "codemirror_mode": {
    "name": "ipython",
    "version": 3
   },
   "file_extension": ".py",
   "mimetype": "text/x-python",
   "name": "python",
   "nbconvert_exporter": "python",
   "pygments_lexer": "ipython3",
   "version": "3.8.3"
  }
 },
 "nbformat": 4,
 "nbformat_minor": 1
}
